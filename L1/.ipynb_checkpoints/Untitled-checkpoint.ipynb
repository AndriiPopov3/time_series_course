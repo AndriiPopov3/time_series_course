{
 "cells": [
  {
   "cell_type": "code",
   "execution_count": 1,
   "metadata": {},
   "outputs": [],
   "source": [
    "import numpy as np\n",
    "\n",
    "def gen_white_noise(mu, sigma):\n",
    "    n1 = 1\n",
    "    n2 = 100\n",
    "    white_noise = sigma * np.random.randn(n1,n2) + mu\n",
    "    return white_noise\n",
    "\n",
    "\n",
    "w_n = gen_white_noise(0, 1)\n",
    "#w_n"
   ]
  },
  {
   "cell_type": "code",
   "execution_count": 2,
   "metadata": {},
   "outputs": [],
   "source": [
    "### коефіціенти рівняння згідно з варіантом\n",
    "coef_a = np.array([0.25, -0.25, -0.19])\n",
    "coef_b = np.array([0.7, 0.2, 0.1])\n",
    "\n",
    "### порядок рівняння\n",
    "size_a = 3\n",
    "size_b = 3\n",
    "\n",
    "for i in range(3):\n",
    "    if i > size_a - 1:\n",
    "        coef_a[i] = 0\n",
    "    if i > size_b - 1:\n",
    "        coef_b[i] = 0\n",
    "        \n",
    "# print(coef_a, coef_b)\n",
    "\n",
    "### створення ряду y\n",
    "y = np.zeros(w_n.size)\n",
    "\n",
    "for i in range(size_a):\n",
    "    y[i] = w_n[0][i]\n",
    "\n",
    "for i in range(size_a, y.size):\n",
    "    y[i] = 0.08 + coef_a[0]*y[i-1] + coef_a[1]*y[i-2] + coef_a[2]*y[i-3] + coef_b[0]*w_n[0][i-1] + coef_b[1]*w_n[0][i-2] + coef_b[2]*w_n[0][i-3]\n",
    "#y"
   ]
  },
  {
   "cell_type": "code",
   "execution_count": 3,
   "metadata": {},
   "outputs": [],
   "source": [
    "### створення матриці Х\n",
    "X = np.zeros(shape=(y.size-size_a, size_a))\n",
    "for i in range(size_a, y.size):\n",
    "    for k in range(size_a):\n",
    "        X[i-size_a][k]=y[i-k-1]\n",
    "    \n",
    "   # X[i-size_a][1]=y[i-2]\n",
    "   # X[i-size_a][2]=y[i-3]\n",
    "#X"
   ]
  },
  {
   "cell_type": "code",
   "execution_count": 4,
   "metadata": {
    "scrolled": true
   },
   "outputs": [],
   "source": [
    "### перетворення вектора y\n",
    "y1 = y[size_a:].T\n",
    "#y1"
   ]
  },
  {
   "cell_type": "code",
   "execution_count": 5,
   "metadata": {},
   "outputs": [
    {
     "data": {
      "text/plain": [
       "array([ 0.46905403, -0.09208399, -0.20894358])"
      ]
     },
     "execution_count": 5,
     "metadata": {},
     "output_type": "execute_result"
    }
   ],
   "source": [
    "### мнк\n",
    "S = np.dot(np.dot(np.linalg.inv(np.dot(X.T, X)), X.T), y1)\n",
    "S"
   ]
  },
  {
   "cell_type": "code",
   "execution_count": 6,
   "metadata": {},
   "outputs": [
    {
     "data": {
      "text/plain": [
       "0.2707046216881135"
      ]
     },
     "execution_count": 6,
     "metadata": {},
     "output_type": "execute_result"
    }
   ],
   "source": [
    "### середньоквадратичне відхилення для мнк\n",
    "sum_diff = 0\n",
    "for i in range(size_a):\n",
    "    sum_diff += pow(coef_a[i]-S[i], 2)\n",
    "    \n",
    "SKO = np.sqrt(sum_diff)\n",
    "SKO"
   ]
  },
  {
   "cell_type": "code",
   "execution_count": 7,
   "metadata": {},
   "outputs": [
    {
     "data": {
      "text/plain": [
       "array([[ 0.20669643],\n",
       "       [ 0.05115582],\n",
       "       [-0.18590983]])"
      ]
     },
     "execution_count": 7,
     "metadata": {},
     "output_type": "execute_result"
    }
   ],
   "source": [
    "### задання параметрів для рмнк\n",
    "a = np.zeros(shape=(size_a,1))\n",
    "# print(a.shape)\n",
    "b = 100\n",
    "P = np.eye(size_a)*b\n",
    "coef = np.zeros(shape=(size_a,1))\n",
    "\n",
    "# print(np.dot(X[1], coef)[0])\n",
    "# print(np.array((y1[i])).shape)\n",
    "# print(np.dot(np.dot(P, X[i].T), y1[i] - np.dot(X[i], coef)[0]).shape)\n",
    "\n",
    "### рмнк\n",
    "for i in range(y.size-size_a):\n",
    "    P = P - np.dot(np.dot(np.dot(P, X[i].T), X[i]), P)/(1 + np.dot(np.dot(X[i], P), X[i].T))\n",
    "    coef = coef + np.dot(np.dot(P, X[i].T), y1[i] - np.dot(X[i], coef)[0]).reshape(size_a,1)\n",
    "coef"
   ]
  },
  {
   "cell_type": "code",
   "execution_count": 50,
   "metadata": {},
   "outputs": [
    {
     "data": {
      "text/plain": [
       "0.4169275567539178"
      ]
     },
     "execution_count": 50,
     "metadata": {},
     "output_type": "execute_result"
    }
   ],
   "source": [
    "sum_diff2 = 0\n",
    "for i in range(size_a):\n",
    "    sum_diff2 += pow(coef_a[i]-coef[i], 2)\n",
    "    \n",
    "SKO2 = np.sqrt(sum_diff2)\n",
    "SKO2[0]"
   ]
  },
  {
   "cell_type": "code",
   "execution_count": 132,
   "metadata": {
    "scrolled": true
   },
   "outputs": [
    {
     "name": "stdout",
     "output_type": "stream",
     "text": [
      "[[ 0.01388597]\n",
      " [ 0.05179821]\n",
      " [-0.0256936 ]\n",
      " [ 0.05506012]\n",
      " [ 0.03183771]\n",
      " [ 0.13448738]]\n"
     ]
    }
   ],
   "source": [
    "### рмнк другим алгоритмом\n",
    "a = np.zeros(shape=(size_a+size_b,1))\n",
    "b = 100\n",
    "P = np.eye(size_a+size_b)*b\n",
    "coef = np.zeros(shape=(size_a+size_b,1))\n",
    "e = np.zeros(shape=(y1.size,1)) # ??\n",
    "gamma = np.zeros(shape=(y1.size,size_a+size_b)) # ??\n",
    "psy = np.zeros(shape=(size_a+size_b, 1))\n",
    "\n",
    "o=0\n",
    "for i in range(size_a):\n",
    "    if coef_a[i]!=0:\n",
    "        psy[o][0] = -y1[size_a-i]\n",
    "        o += 1\n",
    "for i in range(size_b):\n",
    "    if coef_b[i]!=0:\n",
    "        psy[o][0] = w_n[0][size_b - i]\n",
    "        o += 1\n",
    "#print(\"psy\", psy)\n",
    "\n",
    "gamma[1] = (np.dot(P, psy)/(1 + np.dot(np.dot(psy.T, P), psy))).reshape(1,size_a+size_b)\n",
    "    \n",
    "e[1] = y1[1] - np.dot(psy.T, coef)\n",
    "\n",
    "coef = coef + gamma[1].reshape(size_a+size_b,1)*(y1[1] - np.dot(coef.T, psy))\n",
    "#coef = coef + gamma[1].reshape(size_a+size_b, 1) * e[1]\n",
    "\n",
    "# перезапись псая\n",
    "o=0\n",
    "for i in range(size_a):\n",
    "    if coef_a[i]!=0:\n",
    "        psy[o][0] = -y1[size_a-i+k] ## k это счетчик внешнего фора (ещё не написан)\n",
    "        o += 1\n",
    "for i in range(size_b):\n",
    "    if coef_b[i]!=0:\n",
    "        psy[o][0] = w_n[0][size_b - i+k]\n",
    "        o += 1\n",
    "    \n",
    "# ИМЕЕТСЯ ГАММА И КОЕФ, НОВЫЙ ПСАЙ - НАДО СОБРАТЬ ПРОМЕЖ. ВЕКТОР И СКАЛЯР,\n",
    "# НОВУЮ ГАММУ И НОВУЮ П, А ПОТОМ ЗАПИХНУТЬ ВСЁ В ОБЩИЙ ФОР\n",
    "\n",
    "r = np.dot(P, psy).reshape(1, size_a+size_b) # reshape чтобы потом было удобнее записывать новую гамму\n",
    "\n",
    "\n",
    "scal = np.dot(np.dot(psy.T, P), psy)[0][0]\n",
    "\n",
    "gamma[2] = r/scal\n",
    "\n",
    "P = P - np.dot(np.dot(gamma[2].reshape(size_a+size_b,1), psy.T), P)\n",
    "\n",
    "#e[2] = y1[2] - np.dot(psy.T, coef)\n",
    "#gamma[2] = (np.dot(P, psy)/(1 + np.dot(np.dot(psy.T, P), psy))).reshape(1,size_a+size_b)"
   ]
  },
  {
   "cell_type": "code",
   "execution_count": 134,
   "metadata": {},
   "outputs": [
    {
     "name": "stderr",
     "output_type": "stream",
     "text": [
      "<ipython-input-134-6a272b790626>:25: RuntimeWarning: divide by zero encountered in true_divide\n",
      "  gamma[k] = r/scal\n"
     ]
    },
    {
     "data": {
      "text/plain": [
       "array([[nan],\n",
       "       [nan],\n",
       "       [nan],\n",
       "       [nan],\n",
       "       [nan],\n",
       "       [nan]])"
      ]
     },
     "execution_count": 134,
     "metadata": {},
     "output_type": "execute_result"
    }
   ],
   "source": [
    "for k in range(2, y1.size-size_a):\n",
    "    e[k] = y1[k] - np.dot(psy.T, coef)\n",
    "    \n",
    "    #coef = coef + gamma[k].reshape(size_a+size_b, 1)*(y1[k] - np.dot(coef.T, psy))\n",
    "    coef = coef + gamma[k-1].reshape(size_a+size_b, 1) * e[k]\n",
    "    \n",
    "    # перезапись псая\n",
    "    o=0\n",
    "    for i in range(size_a):\n",
    "        if coef_a[i]!=0:\n",
    "            psy[o][0] = -y1[size_a-i+k] ## k это счетчик внешнего фора (ещё не написан)\n",
    "            o += 1\n",
    "    for i in range(size_b):\n",
    "        if coef_b[i]!=0:\n",
    "            psy[o][0] = w_n[0][size_b - i+k]\n",
    "            o += 1\n",
    "\n",
    "    # ИМЕЕТСЯ ГАММА И КОЕФ, НОВЫЙ ПСАЙ - НАДО СОБРАТЬ ПРОМЕЖ. ВЕКТОР И СКАЛЯР,\n",
    "    # НОВУЮ ГАММУ И НОВУЮ П, А ПОТОМ ЗАПИХНУТЬ ВСЁ В ОБЩИЙ ФОР\n",
    "\n",
    "    r = np.dot(P, psy).reshape(1, size_a+size_b) # reshape чтобы потом было удобнее записывать новую гамму\n",
    "\n",
    "    scal = np.dot(np.dot(psy.T, P), psy)[0][0]\n",
    "\n",
    "    gamma[k] = r/scal\n",
    "\n",
    "    P = P - np.dot(np.dot(gamma[k].reshape(6,1), psy.T), P)\n",
    "\n",
    "    #e[2] = y1[2] - np.dot(psy.T, coef)\n",
    "\n",
    "    #gamma[2] = (np.dot(P, psy)/(1 + np.dot(np.dot(psy.T, P), psy))).reshape(1,size_a+size_b)"
   ]
  },
  {
   "cell_type": "code",
   "execution_count": null,
   "metadata": {},
   "outputs": [],
   "source": []
  }
 ],
 "metadata": {
  "kernelspec": {
   "display_name": "Python 3",
   "language": "python",
   "name": "python3"
  },
  "language_info": {
   "codemirror_mode": {
    "name": "ipython",
    "version": 3
   },
   "file_extension": ".py",
   "mimetype": "text/x-python",
   "name": "python",
   "nbconvert_exporter": "python",
   "pygments_lexer": "ipython3",
   "version": "3.8.5"
  }
 },
 "nbformat": 4,
 "nbformat_minor": 4
}
