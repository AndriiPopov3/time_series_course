{
 "cells": [
  {
   "cell_type": "code",
   "execution_count": 1,
   "metadata": {},
   "outputs": [],
   "source": [
    "import numpy as np\n",
    "\n",
    "def v_from_txt():\n",
    "    v = np.loadtxt(\n",
    "        'v.txt'\n",
    "    )\n",
    "    return v\n",
    "\n",
    "def y_from_txt():\n",
    "    y = np.loadtxt(\n",
    "        'y.txt'\n",
    "    )\n",
    "    return y\n",
    "\n",
    "def a_b_from_txt():\n",
    "    coef = np.loadtxt(\n",
    "        'test.txt',\n",
    "        dtype = 'str'\n",
    "    )\n",
    "    return coef"
   ]
  },
  {
   "cell_type": "code",
   "execution_count": 3,
   "metadata": {},
   "outputs": [
    {
     "name": "stdout",
     "output_type": "stream",
     "text": [
      "[0.005, 0.1, 0.2, 0.3] [0.01]\n"
     ]
    }
   ],
   "source": [
    "v = v_from_txt()\n",
    "y = y_from_txt()\n",
    "coef = a_b_from_txt()\n",
    "a = [float(c[3:]) for c in coef if c[0]=='a']\n",
    "b = [float(c[3:]) for c in coef if c[0]=='b']\n",
    "p = len(a) - 1\n",
    "q = len(b)\n",
    "N = len(v)"
   ]
  },
  {
   "cell_type": "code",
   "execution_count": null,
   "metadata": {},
   "outputs": [],
   "source": []
  },
  {
   "cell_type": "code",
   "execution_count": null,
   "metadata": {},
   "outputs": [],
   "source": []
  },
  {
   "cell_type": "code",
   "execution_count": null,
   "metadata": {},
   "outputs": [],
   "source": []
  },
  {
   "cell_type": "code",
   "execution_count": null,
   "metadata": {},
   "outputs": [],
   "source": []
  }
 ],
 "metadata": {
  "kernelspec": {
   "display_name": "Python 3",
   "language": "python",
   "name": "python3"
  },
  "language_info": {
   "codemirror_mode": {
    "name": "ipython",
    "version": 3
   },
   "file_extension": ".py",
   "mimetype": "text/x-python",
   "name": "python",
   "nbconvert_exporter": "python",
   "pygments_lexer": "ipython3",
   "version": "3.8.5"
  }
 },
 "nbformat": 4,
 "nbformat_minor": 4
}
